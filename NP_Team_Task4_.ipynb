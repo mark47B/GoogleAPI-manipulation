{
  "nbformat": 4,
  "nbformat_minor": 0,
  "metadata": {
    "colab": {
      "provenance": []
    },
    "kernelspec": {
      "name": "python3",
      "display_name": "Python 3"
    },
    "language_info": {
      "name": "python"
    }
  },
  "cells": [
    {
      "cell_type": "markdown",
      "source": [
        "# Подключим библиотеки и создадим экземпляр клиента для работы с GoogleAPI"
      ],
      "metadata": {
        "id": "SmhQfx9HkKRA"
      }
    },
    {
      "cell_type": "code",
      "execution_count": null,
      "metadata": {
        "id": "H_CHRCJgj7GA"
      },
      "outputs": [],
      "source": [
        "import apiclient.discovery\n",
        "import httplib2\n",
        "from oauth2client.service_account import ServiceAccountCredentials\n",
        "\n",
        "CREDENTIALS_FILE = (\n",
        "    \"\"  # Имя файла с закрытым ключом, вы должны подставить свое!!!\n",
        ")\n",
        "\n",
        "# Читаем ключи из файла\n",
        "credentials = ServiceAccountCredentials.from_json_keyfile_name(\n",
        "    CREDENTIALS_FILE,\n",
        "    [\n",
        "        \"https://www.googleapis.com/auth/spreadsheets\",\n",
        "        \"https://www.googleapis.com/auth/drive\",\n",
        "    ],\n",
        ")\n",
        "\n",
        "httpAuth = credentials.authorize(httplib2.Http())  # Авторизуемся в системе\n",
        "service = apiclient.discovery.build(\n",
        "    \"sheets\", \"v4\", http=httpAuth\n",
        ")  # Выбираем работу с таблицами и 4 версию API\n",
        "\n",
        "spreadsheetId = \"1anLwzOo3pKIL02JCteFPE21b8BKCdYY25zksFMVTIwg\" # spreadsheetId из задания\n"
      ]
    },
    {
      "cell_type": "markdown",
      "source": [
        "# Основное задание\n",
        "### 1. Сдвинем колонки \"Годовой темп прироста\" на 1 колонку вправо\n"
      ],
      "metadata": {
        "id": "WL2aNN17kfuF"
      }
    },
    {
      "cell_type": "code",
      "source": [
        "# Получаем существующие колонки\n",
        "ranges = [f\"{'Stats'}!{'D2:F10'}\"]\n",
        "results = (\n",
        "    service.spreadsheets()\n",
        "    .values()\n",
        "    .batchGet(\n",
        "        spreadsheetId=spreadsheetId,\n",
        "        ranges=ranges,\n",
        "        dateTimeRenderOption=\"FORMATTED_STRING\",\n",
        "    )\n",
        "    .execute()\n",
        ")\n",
        "data = results[\"valueRanges\"][0][\"values\"]\n",
        "print(data)\n",
        "\n",
        "# Вставляем их на 1 колонку правее\n",
        "\n",
        "results = (\n",
        "    service.spreadsheets()\n",
        "    .values()\n",
        "    .batchUpdate(\n",
        "        spreadsheetId=spreadsheetId,\n",
        "        body={\n",
        "            \"valueInputOption\": \"USER_ENTERED\",\n",
        "            \"data\": [\n",
        "                {\n",
        "                    \"range\": \"Stats!E2:G10\",\n",
        "                    \"majorDimension\": \"ROWS\",\n",
        "                    \"values\": data,\n",
        "                }\n",
        "            ],\n",
        "        },\n",
        "    )\n",
        "    .execute()\n",
        ")\n",
        "\n"
      ],
      "metadata": {
        "id": "6XKHhKU8keqZ"
      },
      "execution_count": null,
      "outputs": []
    },
    {
      "cell_type": "markdown",
      "source": [
        "### 2. Перекопируем заголовок \"Годовой темп прироста\"\n"
      ],
      "metadata": {
        "id": "kiWo22vplLp_"
      }
    },
    {
      "cell_type": "code",
      "source": [
        "# Отмняем объединение ячеек D1:F1\n",
        "results = (\n",
        "    service.spreadsheets()\n",
        "    .batchUpdate(\n",
        "        spreadsheetId=spreadsheetId,\n",
        "        body={\n",
        "            \"requests\": [\n",
        "                {\n",
        "                    \"unmergeCells\": {\n",
        "                        \"range\": {\n",
        "                            \"sheetId\": 0,\n",
        "                            \"startRowIndex\": 0,\n",
        "                            \"endRowIndex\": 2,\n",
        "                            \"startColumnIndex\": 3,\n",
        "                            \"endColumnIndex\": 6,\n",
        "                        }\n",
        "                    }\n",
        "                }\n",
        "            ]\n",
        "        },\n",
        "    )\n",
        "    .execute()\n",
        ")\n",
        "\n",
        "# Получим содержимое заголовка\n",
        "ranges = [f\"{'Stats'}!{'D1'}\"]\n",
        "results = (\n",
        "    service.spreadsheets()\n",
        "    .values()\n",
        "    .batchGet(\n",
        "        spreadsheetId=spreadsheetId,\n",
        "        ranges=ranges,\n",
        "        dateTimeRenderOption=\"FORMATTED_STRING\",\n",
        "    )\n",
        "    .execute()\n",
        ")\n",
        "title = results[\"valueRanges\"][0][\"values\"]\n",
        "\n",
        "# Вставим заголовок на одну ячейку правее\n",
        "results = (\n",
        "    service.spreadsheets()\n",
        "    .values()\n",
        "    .batchUpdate(\n",
        "        spreadsheetId=spreadsheetId,\n",
        "        body={\n",
        "            \"valueInputOption\": \"USER_ENTERED\",\n",
        "            \"data\": [\n",
        "                {\n",
        "                    \"range\": \"Stats!E1\",\n",
        "                    \"majorDimension\": \"ROWS\",\n",
        "                    \"values\": title,\n",
        "                }\n",
        "            ],\n",
        "        },\n",
        "    )\n",
        "    .execute()\n",
        ")\n",
        "\n",
        "# Объединим ячейки E1:H1\n",
        "results = (\n",
        "    service.spreadsheets()\n",
        "    .batchUpdate(\n",
        "        spreadsheetId=spreadsheetId,\n",
        "        body={\n",
        "            \"requests\": [\n",
        "                {\n",
        "                    \"mergeCells\": {\n",
        "                        \"range\": {\n",
        "                            \"sheetId\": 0,\n",
        "                            \"startRowIndex\": 0,\n",
        "                            \"endRowIndex\": 1,\n",
        "                            \"startColumnIndex\": 4,\n",
        "                            \"endColumnIndex\": 8,\n",
        "                        }\n",
        "                    }\n",
        "                }\n",
        "            ]\n",
        "        },\n",
        "    )\n",
        "    .execute()\n",
        ")\n"
      ],
      "metadata": {
        "id": "wDBes9tLlKYS"
      },
      "execution_count": null,
      "outputs": []
    },
    {
      "cell_type": "markdown",
      "source": [
        "### 3. Дополняем новой колонкой \"Прирост за месяц\""
      ],
      "metadata": {
        "id": "S_rwNqF8lD0x"
      }
    },
    {
      "cell_type": "code",
      "source": [
        "# Данные из задания для колонки \"Прирост за месяц\"\n",
        "data = [[\"01.06.2023\", \"353\", \"0\", \"6\", \"0\", \"-10\", \"218\", \"132\", \"8\"]]\n",
        "\n",
        "# Вставим эти данные на позицию D2:D10\n",
        "results = (\n",
        "    service.spreadsheets()\n",
        "    .values()\n",
        "    .batchUpdate(\n",
        "        spreadsheetId=spreadsheetId,\n",
        "        body={\n",
        "            \"valueInputOption\": \"USER_ENTERED\",\n",
        "            \"data\": [\n",
        "                {\n",
        "                    \"range\": \"Stats!D2:D10\",\n",
        "                    \"majorDimension\": \"COLUMNS\",\n",
        "                    \"values\": data,\n",
        "                }\n",
        "            ],\n",
        "        },\n",
        "    )\n",
        "    .execute()\n",
        ")\n",
        "\n",
        "# Объединяем ячейки для заголовка \"Прирост за месяц\"\n",
        "results = (\n",
        "    service.spreadsheets()\n",
        "    .batchUpdate(\n",
        "        spreadsheetId=spreadsheetId,\n",
        "        body={\n",
        "            \"requests\": [\n",
        "                {\n",
        "                    \"mergeCells\": {\n",
        "                        \"range\": {\n",
        "                            \"sheetId\": 0,\n",
        "                            \"startRowIndex\": 0,\n",
        "                            \"endRowIndex\": 1,\n",
        "                            \"startColumnIndex\": 1,\n",
        "                            \"endColumnIndex\": 4,\n",
        "                        }\n",
        "                    }\n",
        "                }\n",
        "            ]\n",
        "        },\n",
        "    )\n",
        "    .execute()\n",
        ")\n"
      ],
      "metadata": {
        "id": "Zv9OwRczlCkD"
      },
      "execution_count": null,
      "outputs": []
    },
    {
      "cell_type": "markdown",
      "source": [
        "### 4. Дополняем 1й колокой \"Годовой темп прироста\""
      ],
      "metadata": {
        "id": "IGM5qw0zk5Gm"
      }
    },
    {
      "cell_type": "code",
      "source": [
        "data = [[\"01.06.2023\", \"22,3\", \"0\", \"-0,7\", \"0\", \"73,1\", \"19,7\", \"10,6\", \"81,3\"]]\n",
        "\n",
        "results = (\n",
        "    service.spreadsheets()\n",
        "    .values()\n",
        "    .batchUpdate(\n",
        "        spreadsheetId=spreadsheetId,\n",
        "        body={\n",
        "            \"valueInputOption\": \"USER_ENTERED\",\n",
        "            \"data\": [\n",
        "                {\n",
        "                    \"range\": \"Stats!H2:H10\",\n",
        "                    \"majorDimension\": \"COLUMNS\",\n",
        "                    \"values\": data,\n",
        "                }\n",
        "            ],\n",
        "        },\n",
        "    )\n",
        "    .execute()\n",
        ")\n"
      ],
      "metadata": {
        "id": "4FBre3pHk4sA"
      },
      "execution_count": null,
      "outputs": []
    }
  ]
}